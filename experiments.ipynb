{
 "cells": [
  {
   "cell_type": "code",
   "execution_count": 188,
   "id": "45670a7f",
   "metadata": {},
   "outputs": [],
   "source": [
    "import os\n",
    "import pandas as pd\n",
    "import numpy as n\n",
    "import matplotlib.pyplot as plt\n",
    "import seaborn as sns\n",
    "from collections import defaultdict\n",
    "import statistics"
   ]
  },
  {
   "cell_type": "code",
   "execution_count": 189,
   "id": "63f22117",
   "metadata": {},
   "outputs": [],
   "source": [
    "figure_path = './figures'\n",
    "if not os.path.exists(figure_path):\n",
    "    os.makedirs(figure_path)"
   ]
  },
  {
   "cell_type": "code",
   "execution_count": 190,
   "id": "46034a9f",
   "metadata": {},
   "outputs": [],
   "source": [
    "# Load Data https://www.kaggle.com/datasets/shuyangli94/food-com-recipes-and-user-interactions/data\n",
    "path = '../data'\n",
    "\n",
    "trainData = pd.read_csv(os.path.join(path, 'interactions_train.csv'))\n",
    "validData = pd.read_csv(os.path.join(path, 'interactions_validation.csv'))\n",
    "testData = pd.read_csv(os.path.join(path, 'interactions_test.csv'))\n",
    "rawRecipe = pd.read_csv(os.path.join(path, 'RAW_recipes.csv'))"
   ]
  },
  {
   "cell_type": "code",
   "execution_count": 191,
   "id": "0144a0c6",
   "metadata": {},
   "outputs": [],
   "source": [
    "# merge with recipe information\n",
    "df_trainData = pd.merge(trainData, rawRecipe, left_on='recipe_id', right_on='id', how='inner')\n",
    "df_validData = pd.merge(validData, rawRecipe, left_on='recipe_id', right_on='id', how='inner')\n",
    "df_testData = pd.merge(testData, rawRecipe, left_on='recipe_id', right_on='id', how='inner')"
   ]
  },
  {
   "cell_type": "code",
   "execution_count": 8,
   "id": "0738a309",
   "metadata": {},
   "outputs": [],
   "source": [
    "## Exploratory Data Analysis"
   ]
  },
  {
   "cell_type": "code",
   "execution_count": 181,
   "id": "6e3b4bec",
   "metadata": {},
   "outputs": [
    {
     "name": "stdout",
     "output_type": "stream",
     "text": [
      "231637\n"
     ]
    }
   ],
   "source": [
    "print(len(rawRecipe))"
   ]
  },
  {
   "cell_type": "code",
   "execution_count": 148,
   "id": "61e6f9c1",
   "metadata": {},
   "outputs": [
    {
     "name": "stdout",
     "output_type": "stream",
     "text": [
      "Index(['name', 'id', 'minutes', 'contributor_id', 'submitted', 'tags',\n",
      "       'nutrition', 'n_steps', 'steps', 'description', 'ingredients',\n",
      "       'n_ingredients'],\n",
      "      dtype='object') 12\n",
      "698901\n",
      "7023\n",
      "12455\n",
      "718379\n",
      "Index(['user_id', 'recipe_id', 'date', 'rating', 'u', 'i', 'name', 'id',\n",
      "       'minutes', 'contributor_id', 'submitted', 'tags', 'nutrition',\n",
      "       'n_steps', 'steps', 'description', 'ingredients', 'n_ingredients',\n",
      "       'weekday', 'month'],\n",
      "      dtype='object')\n"
     ]
    }
   ],
   "source": [
    "print(rawRecipe.columns, len(rawRecipe.columns))\n",
    "# print(rawRecipe.head(1))\n",
    "print(len(df_trainData))\n",
    "print(len(df_validData))\n",
    "print(len(df_testData))\n",
    "print(len(df_trainData) + len(df_validData) + len(df_testData))\n",
    "print(df_trainData.columns)"
   ]
  },
  {
   "cell_type": "code",
   "execution_count": 16,
   "id": "41b76dd6",
   "metadata": {},
   "outputs": [
    {
     "name": "stdout",
     "output_type": "stream",
     "text": [
      "25076 160901\n"
     ]
    }
   ],
   "source": [
    "users, items = defaultdict(int), defaultdict(int)\n",
    "for i, row in df_trainData.iterrows():\n",
    "    users[row['user_id']] += 1\n",
    "    items[row['recipe_id']] += 1\n",
    "print(len(users), len(items))"
   ]
  },
  {
   "cell_type": "code",
   "execution_count": 17,
   "id": "3b4e3ead",
   "metadata": {},
   "outputs": [
    {
     "name": "stdout",
     "output_type": "stream",
     "text": [
      "25076 167522\n",
      "25076 178265\n"
     ]
    }
   ],
   "source": [
    "for i, row in df_validData.iterrows():\n",
    "    users[row['user_id']] += 1\n",
    "    items[row['recipe_id']] += 1\n",
    "print(len(users), len(items))\n",
    "for i, row in df_testData.iterrows():\n",
    "    users[row['user_id']] += 1\n",
    "    items[row['recipe_id']] += 1\n",
    "print(len(users), len(items))"
   ]
  },
  {
   "cell_type": "code",
   "execution_count": 23,
   "id": "c40c4bd8",
   "metadata": {},
   "outputs": [
    {
     "name": "stdout",
     "output_type": "stream",
     "text": [
      "28.648069867602487\n",
      "4.029837601323872\n"
     ]
    }
   ],
   "source": [
    "average_items_per_user = sum(users.values()) / len(users)\n",
    "print(average_items_per_user)\n",
    "average_users_per_item = sum(items.values()) / len(items)\n",
    "print(average_users_per_item)"
   ]
  },
  {
   "cell_type": "code",
   "execution_count": 32,
   "id": "1b6d6ddf",
   "metadata": {},
   "outputs": [
    {
     "name": "stdout",
     "output_type": "stream",
     "text": [
      "4.574089892559891\n"
     ]
    }
   ],
   "source": [
    "average_rating = sum(df_trainData['rating'].values) / len(df_trainData)\n",
    "print(average_rating)"
   ]
  },
  {
   "cell_type": "code",
   "execution_count": 192,
   "id": "adbb0e63",
   "metadata": {},
   "outputs": [
    {
     "name": "stdout",
     "output_type": "stream",
     "text": [
      "0.0 5.0\n",
      "4.574089892559891\n",
      "0.9197235144203892\n"
     ]
    }
   ],
   "source": [
    "print(min(df_trainData['rating'].values), max(df_trainData['rating'].values))\n",
    "averageRating = statistics.mean(df_trainData['rating'].values)\n",
    "print(averageRating)\n",
    "print(statistics.variance(df_trainData['rating'].values))"
   ]
  },
  {
   "cell_type": "code",
   "execution_count": 183,
   "id": "d76b08e3",
   "metadata": {},
   "outputs": [
    {
     "data": {
      "image/png": "[encoded data removed]",
      "text/plain": [
       "<Figure size 576x432 with 1 Axes>"
      ]
     },
     "metadata": {
      "needs_background": "light"
     },
     "output_type": "display_data"
    }
   ],
   "source": [
    "plt.figure(figsize=(8, 6))\n",
    "sns.countplot(x='rating', data=df_trainData, palette='viridis')  # Adjust palette as needed\n",
    "plt.title('Count of Ratings')\n",
    "plt.xlabel('Rating')\n",
    "plt.ylabel('Count')\n",
    "plt.savefig(os.path.join(figure_path, 'rating_distribution.png'))\n",
    "plt.show()"
   ]
  },
  {
   "cell_type": "code",
   "execution_count": null,
   "id": "2f9ca96c",
   "metadata": {},
   "outputs": [],
   "source": [
    "# Visualization"
   ]
  },
  {
   "cell_type": "code",
   "execution_count": 85,
   "id": "7a7d3865",
   "metadata": {},
   "outputs": [
    {
     "data": {
      "image/png": "[encoded data removed]",
      "text/plain": [
       "<Figure size 576x432 with 2 Axes>"
      ]
     },
     "metadata": {
      "needs_background": "light"
     },
     "output_type": "display_data"
    }
   ],
   "source": [
    "# PCC\n",
    "train_vis = df_trainData[['minutes', 'n_steps', 'n_ingredients', 'rating']]\n",
    "pcc = train_vis.corr(method='pearson')\n",
    "plt.figure(figsize=(8, 6))\n",
    "sns.heatmap(pcc, annot=True, cmap='Blues', fmt='.5f')\n",
    "plt.title('Pearson Correlation Heatmap')\n",
    "plt.savefig(os.path.join(figure_path, 'pcc_heatmap.png'))\n",
    "plt.show()"
   ]
  },
  {
   "cell_type": "code",
   "execution_count": 193,
   "id": "6f56a6b3",
   "metadata": {},
   "outputs": [],
   "source": [
    "# Temporal Correlation\n",
    "df_trainData['date'] = pd.to_datetime(df_trainData['date'])\n",
    "df_trainData['weekday'] = df_trainData['date'].dt.day_name()\n",
    "df_trainData['month'] = df_trainData['date'].dt.month_name()\n",
    "df_validData['date'] = pd.to_datetime(df_validData['date'])\n",
    "df_validData['weekday'] = df_validData['date'].dt.day_name()\n",
    "df_validData['month'] = df_validData['date'].dt.month_name()\n",
    "df_testData['date'] = pd.to_datetime(df_testData['date'])\n",
    "df_testData['weekday'] = df_testData['date'].dt.day_name()\n",
    "df_testData['month'] = df_testData['date'].dt.month_name()"
   ]
  },
  {
   "cell_type": "code",
   "execution_count": 133,
   "id": "d6b87c88",
   "metadata": {},
   "outputs": [
    {
     "data": {
      "image/png": "[encoded data removed]",
      "text/plain": [
       "<Figure size 576x432 with 1 Axes>"
      ]
     },
     "metadata": {
      "needs_background": "light"
     },
     "output_type": "display_data"
    },
    {
     "data": {
      "image/png": "[encoded data removed]",
      "text/plain": [
       "<Figure size 576x432 with 1 Axes>"
      ]
     },
     "metadata": {
      "needs_background": "light"
     },
     "output_type": "display_data"
    }
   ],
   "source": [
    "# rating by weekday\n",
    "avg_rating_by_weekday = df_trainData.groupby('weekday')['rating'].mean().reset_index()\n",
    "\n",
    "weekdays_order = ['Monday', 'Tuesday', 'Wednesday', 'Thursday', 'Friday', 'Saturday', 'Sunday']\n",
    "avg_rating_by_weekday['weekday'] = pd.Categorical(avg_rating_by_weekday['weekday'], categories=weekdays_order, ordered=True)\n",
    "avg_rating_by_weekday = avg_rating_by_weekday.sort_values('weekday')\n",
    "\n",
    "plt.figure(figsize=(8, 6))\n",
    "plt.bar(avg_rating_by_weekday['weekday'], avg_rating_by_weekday['rating'], color='skyblue')\n",
    "plt.axhline(y=averageRating, color='red', linestyle='--', label='Average Rating')\n",
    "plt.title('Average Rating by Weekday')\n",
    "plt.xlabel('Weekday')\n",
    "plt.ylabel('Average Rating')\n",
    "plt.ylim(4.5, 4.6)\n",
    "plt.xticks(rotation=45)  # Rotate x-axis labels for better readability\n",
    "plt.tight_layout()\n",
    "plt.legend()\n",
    "plt.savefig(os.path.join(figure_path, 'avg_rating_by_weekday.png'))\n",
    "plt.show()\n",
    "\n",
    "# rating by month\n",
    "avg_rating_by_month = df_trainData.groupby('month')['rating'].mean().reset_index()\n",
    "\n",
    "month_order = ['January', 'February', 'March', 'April', 'May', 'June', 'July', 'August', 'September', 'October', 'November', 'December']\n",
    "avg_rating_by_month['month'] = pd.Categorical(avg_rating_by_month['month'], categories=month_order, ordered=True)\n",
    "avg_rating_by_month = avg_rating_by_month.sort_values('month')\n",
    "\n",
    "plt.figure(figsize=(8, 6))\n",
    "plt.bar(avg_rating_by_month['month'], avg_rating_by_month['rating'], color='skyblue')\n",
    "plt.axhline(y=averageRating, color='red', linestyle='--', label='Average Rating')\n",
    "plt.title('Average Rating by Month')\n",
    "plt.xlabel('Month')\n",
    "plt.ylabel('Average Rating')\n",
    "plt.ylim(4.5, 4.63)\n",
    "plt.xticks(rotation=45)  # Rotate x-axis labels for better readability\n",
    "plt.tight_layout()\n",
    "plt.legend()\n",
    "plt.savefig(os.path.join(figure_path, 'avg_rating_by_month.png'))\n",
    "plt.show()"
   ]
  },
  {
   "cell_type": "code",
   "execution_count": null,
   "id": "7bec7ab2",
   "metadata": {},
   "outputs": [],
   "source": [
    "## Simple Regression (not considering user)"
   ]
  },
  {
   "cell_type": "code",
   "execution_count": 197,
   "id": "373224c5",
   "metadata": {},
   "outputs": [],
   "source": [
    "one_hot_order = ['weekday_Monday', 'weekday_Tuesday', 'weekday_Wednesday', 'weekday_Thursday', 'weekday_Friday', \n",
    "                 'weekday_Saturday', 'weekday_Sunday', 'month_January', 'month_February', 'month_March', \n",
    "                 'month_April', 'month_May', 'month_June', 'month_July', 'month_August', 'month_September', \n",
    "                 'month_October', 'month_November', 'month_December']\n",
    "\n",
    "df_X_train_feat = df_trainData[['minutes', 'n_steps', 'n_ingredients', 'weekday', 'month']]\n",
    "\n",
    "df_encoded_train = pd.get_dummies(df_trainData, columns=['weekday', 'month'])\n",
    "df_encoded_train = df_encoded_train.reindex(columns=one_hot_order)\n",
    "\n",
    "df_X_train_feat = pd.concat([df_X_train_feat, df_encoded_train], axis=1)\n",
    "df_X_train_feat = df_X_train_feat.drop(['weekday', 'month'], axis=1)\n",
    "\n",
    "y_train_lr = df_trainData['rating']\n",
    "\n",
    "df_X_valid_feat = df_validData[['minutes', 'n_steps', 'n_ingredients', 'weekday', 'month']]\n",
    "\n",
    "df_encoded_valid = pd.get_dummies(df_validData, columns=['weekday', 'month'])\n",
    "df_encoded_valid = df_encoded_valid.reindex(columns=one_hot_order)\n",
    "                                            \n",
    "df_X_valid_feat = pd.concat([df_X_valid_feat, df_encoded_valid], axis=1)\n",
    "df_X_valid_feat = df_X_valid_feat.drop(['weekday', 'month'], axis=1)\n",
    "\n",
    "y_valid_lr = df_validData['rating'] \n",
    "\n",
    "df_X_test_feat = df_testData[['minutes', 'n_steps', 'n_ingredients', 'weekday', 'month']]\n",
    "\n",
    "df_encoded_test = pd.get_dummies(df_testData, columns=['weekday', 'month'])\n",
    "df_encoded_test = df_encoded_test.reindex(columns=one_hot_order)\n",
    "                                            \n",
    "df_X_test_feat = pd.concat([df_X_test_feat, df_encoded_test], axis=1)\n",
    "df_X_test_feat = df_X_test_feat.drop(['weekday', 'month'], axis=1)\n",
    "\n",
    "y_test_lr = df_testData['rating'] "
   ]
  },
  {
   "cell_type": "code",
   "execution_count": 146,
   "id": "f1f79e4a",
   "metadata": {},
   "outputs": [],
   "source": [
    "from sklearn.preprocessing import MinMaxScaler\n",
    "from sklearn.linear_model import Ridge\n",
    "from sklearn.ensemble import RandomForestRegressor\n",
    "from sklearn.metrics import mean_squared_error"
   ]
  },
  {
   "cell_type": "code",
   "execution_count": 213,
   "id": "b165c944",
   "metadata": {},
   "outputs": [],
   "source": [
    "scaler = MinMaxScaler()\n",
    "\n",
    "df_X_train_lr = scaler.fit_transform(df_X_train_feat)\n",
    "df_X_valid_lr = scaler.transform(df_X_valid_feat)\n",
    "df_X_test_lr = scaler.transform(df_X_test_feat)"
   ]
  },
  {
   "cell_type": "code",
   "execution_count": 155,
   "id": "89e7763b",
   "metadata": {},
   "outputs": [
    {
     "name": "stdout",
     "output_type": "stream",
     "text": [
      "1.3467762177066076\n",
      "1.3467520342925552\n"
     ]
    }
   ],
   "source": [
    "lr = Ridge(alpha=1.)\n",
    "\n",
    "lr.fit(df_X_train_lr, y_train_lr)\n",
    "y_pred = lr.predict(df_X_valid_lr)\n",
    "\n",
    "y_pred_baseline = [averageRating] * len(y_valid_lr)\n",
    "baseline_rmse = mean_squared_error(y_pred_baseline, y_valid_lr, squared=False)\n",
    "print(baseline_rmse)\n",
    "\n",
    "rmse = mean_squared_error(y_pred, y_valid_lr, squared=False)\n",
    "print(rmse)"
   ]
  },
  {
   "cell_type": "code",
   "execution_count": 141,
   "id": "2c8ba208",
   "metadata": {},
   "outputs": [
    {
     "name": "stdout",
     "output_type": "stream",
     "text": [
      "[(1.346698563514695, 10000.0), (1.346741959269668, 1000.0), (1.346751469335064, 100.0)]\n"
     ]
    }
   ],
   "source": [
    "cv = []\n",
    "for c in [0.001, 0.01, 0.1, 0.5, 1.0, 2.0, 10.0, 100.0, 1000.0, 10000.0]:\n",
    "    lr = Ridge(alpha=c)\n",
    "    lr.fit(df_X_train_lr, y_train_lr)\n",
    "    y_pred = lr.predict(df_X_valid_lr)\n",
    "    rmse = mean_squared_error(y_pred, y_valid_lr, squared=False)\n",
    "    cv.append((rmse, c))\n",
    "\n",
    "cv.sort()\n",
    "print(cv[:3])"
   ]
  },
  {
   "cell_type": "code",
   "execution_count": 147,
   "id": "aca534f5",
   "metadata": {},
   "outputs": [
    {
     "name": "stdout",
     "output_type": "stream",
     "text": [
      "1.3467893060647858\n"
     ]
    }
   ],
   "source": [
    "rf = RandomForestRegressor(n_estimators=100, max_depth=3, random_state=258)\n",
    "\n",
    "rf.fit(df_X_train_lr, y_train_lr)\n",
    "y_pred = rf.predict(df_X_valid_lr)\n",
    "\n",
    "rmse = mean_squared_error(y_pred, y_valid_lr, squared=False)\n",
    "print(rmse)"
   ]
  },
  {
   "cell_type": "code",
   "execution_count": 214,
   "id": "b81077be",
   "metadata": {},
   "outputs": [
    {
     "name": "stdout",
     "output_type": "stream",
     "text": [
      "1.3856472235970512\n"
     ]
    }
   ],
   "source": [
    "rf = RandomForestRegressor(n_estimators=100, max_depth=3, random_state=258)\n",
    "\n",
    "rf.fit(df_X_train_lr, y_train_lr)\n",
    "y_pred = rf.predict(df_X_test_lr)\n",
    "\n",
    "rmse = mean_squared_error(y_pred, y_test_lr, squared=False)\n",
    "print(rmse)"
   ]
  },
  {
   "cell_type": "code",
   "execution_count": 173,
   "id": "701fc712",
   "metadata": {},
   "outputs": [
    {
     "name": "stdout",
     "output_type": "stream",
     "text": [
      "1.3862790332522013\n",
      "1.3859217838462696\n"
     ]
    }
   ],
   "source": [
    "# Evaluate on testset\n",
    "lr = Ridge(alpha=10000.0)\n",
    "lr.fit(df_X_train_lr, y_train_lr)\n",
    "y_pred = lr.predict(df_X_test_lr)\n",
    "\n",
    "y_pred_baseline = [averageRating] * len(y_test_lr)\n",
    "baseline_rmse = mean_squared_error(y_pred_baseline, y_test_lr, squared=False)\n",
    "print(baseline_rmse)\n",
    "\n",
    "rmse = mean_squared_error(y_pred, y_test_lr, squared=False)\n",
    "print(rmse)"
   ]
  },
  {
   "cell_type": "code",
   "execution_count": 158,
   "id": "3199d213",
   "metadata": {},
   "outputs": [],
   "source": [
    "## Latent Factor Model"
   ]
  },
  {
   "cell_type": "code",
   "execution_count": 164,
   "id": "f9621015",
   "metadata": {},
   "outputs": [],
   "source": [
    "import scipy\n",
    "from fastFM import als"
   ]
  },
  {
   "cell_type": "code",
   "execution_count": 166,
   "id": "15c1f7c6",
   "metadata": {},
   "outputs": [],
   "source": [
    "# user_id and item_id to index\n",
    "user_to_id, item_to_id = {}, {}\n",
    "uid, iid = 0, 0\n",
    "for i, row in df_trainData.iterrows():\n",
    "    user, item = row['user_id'], row['recipe_id']\n",
    "    if user not in user_to_id:\n",
    "        user_to_id[user] = uid\n",
    "        uid += 1\n",
    "    if item not in item_to_id:\n",
    "        item_to_id[item] = iid\n",
    "        iid += 1\n",
    "        \n",
    "n_users, n_items = len(user_to_id), len(item_to_id)"
   ]
  },
  {
   "cell_type": "code",
   "execution_count": 167,
   "id": "d7120ea0",
   "metadata": {},
   "outputs": [],
   "source": [
    "X_train = scipy.sparse.lil_matrix((len(df_trainData), n_users + n_items))\n",
    "X_valid = scipy.sparse.lil_matrix((len(df_validData), n_users + n_items))\n",
    "X_test = scipy.sparse.lil_matrix((len(df_testData), n_users + n_items))"
   ]
  },
  {
   "cell_type": "code",
   "execution_count": 171,
   "id": "32f230f3",
   "metadata": {},
   "outputs": [],
   "source": [
    "for i, row in df_trainData.iterrows():\n",
    "    user = user_to_id[row['user_id']]\n",
    "    item = item_to_id[row['recipe_id']]\n",
    "    X_train[i, user] = 1\n",
    "    X_train[i, n_users + item] = 1\n",
    "    \n",
    "for i, row in df_validData.iterrows():\n",
    "    user = user_to_id.get(row['user_id'], None)\n",
    "    item = item_to_id.get(row['recipe_id'], None) \n",
    "    if user is not None:\n",
    "        X_valid[i, user] = 1\n",
    "    if item is not None:\n",
    "        X_valid[i, n_users + item] = 1\n",
    "    \n",
    "for i, row in df_testData.iterrows():\n",
    "    user = user_to_id.get(row['user_id'], None)\n",
    "    item = item_to_id.get(row['recipe_id'], None) \n",
    "    if user is not None:\n",
    "        X_test[i, user] = 1\n",
    "    if item is not None:\n",
    "        X_test[i, n_users + item] = 1"
   ]
  },
  {
   "cell_type": "code",
   "execution_count": 172,
   "id": "c16e1f57",
   "metadata": {},
   "outputs": [],
   "source": [
    "y_train = df_trainData['rating'].values\n",
    "y_valid = df_validData['rating'].values\n",
    "y_test = df_testData['rating'].values"
   ]
  },
  {
   "cell_type": "code",
   "execution_count": 179,
   "id": "5b2eb3c2",
   "metadata": {},
   "outputs": [
    {
     "name": "stdout",
     "output_type": "stream",
     "text": [
      "1.3467762177066076\n",
      "1.298595235269419\n"
     ]
    }
   ],
   "source": [
    "fm = als.FMRegression(n_iter=1000, init_stdev=0.1, rank=5, l2_reg_w=0.1, l2_reg_V=0.5)\n",
    "fm.fit(X_train, y_train)\n",
    "y_pred = fm.predict(X_valid)\n",
    "\n",
    "y_pred_baseline = [averageRating] * len(y_valid_lr)\n",
    "baseline_rmse = mean_squared_error(y_pred_baseline, y_valid_lr, squared=False)\n",
    "print(baseline_rmse)\n",
    "\n",
    "rmse = mean_squared_error(y_pred, y_valid_lr, squared=False)\n",
    "print(rmse)"
   ]
  },
  {
   "cell_type": "code",
   "execution_count": 180,
   "id": "5f0ee985",
   "metadata": {},
   "outputs": [
    {
     "name": "stdout",
     "output_type": "stream",
     "text": [
      "[(1.282365742599351, 9), (1.286023648736212, 8), (1.290132904721225, 7), (1.2916077905654575, 6), (1.298595235269419, 5), (1.3032605569847935, 4), (1.307344148761027, 3), (1.3113639127107222, 2), (1.3144198244622776, 1)]\n"
     ]
    }
   ],
   "source": [
    "cv = []\n",
    "for k in range(1, 10):\n",
    "    fm = als.FMRegression(n_iter=1000, init_stdev=0.1, rank=k, l2_reg_w=0.1, l2_reg_V=0.5)\n",
    "    fm.fit(X_train, y_train)\n",
    "    y_pred = fm.predict(X_valid)\n",
    "    rmse = mean_squared_error(y_pred, y_valid_lr, squared=False)\n",
    "    cv.append((rmse, k, fm))\n",
    "\n",
    "cv.sort()\n",
    "print([(a, b) for a, b, _ in cv])"
   ]
  },
  {
   "cell_type": "code",
   "execution_count": 222,
   "id": "baae6946",
   "metadata": {},
   "outputs": [
    {
     "name": "stdout",
     "output_type": "stream",
     "text": [
      "1.334596172621381\n"
     ]
    }
   ],
   "source": [
    "fm = als.FMRegression(n_iter=1000, init_stdev=0.1, rank=9, l2_reg_w=0.1, l2_reg_V=0.5)\n",
    "fm.fit(X_train, y_train)\n",
    "y_pred = fm.predict(X_test)\n",
    "rmse = mean_squared_error(y_pred, y_test_lr, squared=False)\n",
    "print(rmse)"
   ]
  },
  {
   "cell_type": "code",
   "execution_count": 185,
   "id": "5491c628",
   "metadata": {},
   "outputs": [
    {
     "name": "stdout",
     "output_type": "stream",
     "text": [
      "25076\n"
     ]
    }
   ],
   "source": [
    "# Personalized Baseline\n",
    "users = defaultdict(list)\n",
    "for i, row in df_trainData.iterrows():\n",
    "    user = row['user_id']\n",
    "    users[user].append(row['rating'])\n",
    "users_baseline = {u: sum(r) / len(r) for u, r in users.items()}\n",
    "print(len(users_baseline))"
   ]
  },
  {
   "cell_type": "code",
   "execution_count": 186,
   "id": "7d79353b",
   "metadata": {},
   "outputs": [
    {
     "name": "stdout",
     "output_type": "stream",
     "text": [
      "1.3540365982179596\n"
     ]
    }
   ],
   "source": [
    "y_pred_baseline2 = [users_baseline.get(row['user_id'], averageRating) for _, row in df_testData.iterrows()]\n",
    "baseline2_rmse = mean_squared_error(y_pred_baseline2, y_test_lr, squared=False)\n",
    "print(baseline2_rmse)"
   ]
  },
  {
   "cell_type": "code",
   "execution_count": null,
   "id": "ca24ba2b",
   "metadata": {},
   "outputs": [],
   "source": [
    "# FM with different combination of features"
   ]
  },
  {
   "cell_type": "code",
   "execution_count": 199,
   "id": "a4c3347b",
   "metadata": {},
   "outputs": [],
   "source": [
    "# Weekday and Month\n",
    "X_train_temporal = scipy.sparse.csr_matrix(df_X_train_feat[one_hot_order].values)\n",
    "X_valid_temporal = scipy.sparse.csr_matrix(df_X_valid_feat[one_hot_order].values)\n",
    "X_test_temporal = scipy.sparse.csr_matrix(df_X_test_feat[one_hot_order].values)\n",
    "X_train_i_t = scipy.sparse.hstack([X_train, X_train_temporal])\n",
    "X_valid_i_t = scipy.sparse.hstack([X_valid, X_valid_temporal])\n",
    "X_test_i_t = scipy.sparse.hstack([X_test, X_test_temporal])"
   ]
  },
  {
   "cell_type": "code",
   "execution_count": 202,
   "id": "54de2b67",
   "metadata": {},
   "outputs": [
    {
     "name": "stdout",
     "output_type": "stream",
     "text": [
      "[(1.279352759315971, 9), (1.2842748585219432, 8), (1.291594358379114, 7), (1.2954590355832185, 6), (1.301699095657578, 5), (1.306242240626027, 4), (1.3130443230132562, 3), (1.3179666687726823, 2), (1.320079500049323, 1)]\n"
     ]
    }
   ],
   "source": [
    "cv_i_t = []\n",
    "for k in range(1, 10):\n",
    "    fm = als.FMRegression(n_iter=1000, init_stdev=0.1, rank=k, l2_reg_w=0.1, l2_reg_V=0.5)\n",
    "    fm.fit(X_train_i_t, y_train)\n",
    "    y_pred = fm.predict(X_valid_i_t)\n",
    "    rmse = mean_squared_error(y_pred, y_valid_lr, squared=False)\n",
    "    cv_i_t.append((rmse, k, fm))\n",
    "\n",
    "cv_i_t.sort()\n",
    "print([(a, b) for a, b, _ in cv_i_t])"
   ]
  },
  {
   "cell_type": "code",
   "execution_count": 225,
   "id": "e958987d",
   "metadata": {},
   "outputs": [
    {
     "data": {
      "image/png": "[encoded data removed]",
      "text/plain": [
       "<Figure size 432x288 with 1 Axes>"
      ]
     },
     "metadata": {
      "needs_background": "light"
     },
     "output_type": "display_data"
    }
   ],
   "source": [
    "cv_i_t.sort(key=lambda x: x[1])\n",
    "x = [k for _, k in cv_i_t]\n",
    "y = [r for r, _ in cv_i_t]\n",
    "\n",
    "plt.plot(x, y, marker='o', linestyle='-', color='b')  # Adjust marker, linestyle, color as needed\n",
    "plt.title('Validation RMSE vs k')\n",
    "plt.xlabel('k')\n",
    "plt.ylabel('RMSE')\n",
    "plt.xticks(x)\n",
    "plt.grid(True)\n",
    "plt.savefig(os.path.join(figure_path, 'rmse_vs_k.png'))\n",
    "plt.show()"
   ]
  },
  {
   "cell_type": "code",
   "execution_count": 215,
   "id": "5e9e0290",
   "metadata": {},
   "outputs": [
    {
     "name": "stdout",
     "output_type": "stream",
     "text": [
      "1.3352324437953018\n"
     ]
    }
   ],
   "source": [
    "fm = als.FMRegression(n_iter=1000, init_stdev=0.1, rank=9, l2_reg_w=0.1, l2_reg_V=0.5)\n",
    "fm.fit(X_train_i_t, y_train)\n",
    "y_pred = fm.predict(X_test_i_t)\n",
    "rmse = mean_squared_error(y_pred, y_test_lr, squared=False)\n",
    "print(rmse)"
   ]
  },
  {
   "cell_type": "code",
   "execution_count": 217,
   "id": "1e3a6c66",
   "metadata": {},
   "outputs": [
    {
     "name": "stdout",
     "output_type": "stream",
     "text": [
      "Index(['minutes', 'n_steps', 'n_ingredients', 'weekday_Monday',\n",
      "       'weekday_Tuesday', 'weekday_Wednesday', 'weekday_Thursday',\n",
      "       'weekday_Friday', 'weekday_Saturday', 'weekday_Sunday', 'month_January',\n",
      "       'month_February', 'month_March', 'month_April', 'month_May',\n",
      "       'month_June', 'month_July', 'month_August', 'month_September',\n",
      "       'month_October', 'month_November', 'month_December'],\n",
      "      dtype='object')\n",
      "(698901, 3)\n"
     ]
    }
   ],
   "source": [
    "print(df_X_train_feat.columns)\n",
    "print(df_X_train_lr[:,0:3].shape)"
   ]
  },
  {
   "cell_type": "code",
   "execution_count": 218,
   "id": "e7c741a6",
   "metadata": {},
   "outputs": [],
   "source": [
    "# Minutes, n_ingredients and n_steps\n",
    "X_train_fs = scipy.sparse.csr_matrix(df_X_train_lr[:,0:3])\n",
    "X_valid_fs = scipy.sparse.csr_matrix(df_X_valid_lr[:,0:3])\n",
    "X_test_fs = scipy.sparse.csr_matrix(df_X_test_lr[:,0:3])\n",
    "X_train_i_f = scipy.sparse.hstack([X_train, X_train_fs])\n",
    "X_valid_i_f = scipy.sparse.hstack([X_valid, X_valid_fs])\n",
    "X_test_i_f = scipy.sparse.hstack([X_test, X_test_fs])"
   ]
  },
  {
   "cell_type": "code",
   "execution_count": 219,
   "id": "ddc071d6",
   "metadata": {},
   "outputs": [
    {
     "name": "stdout",
     "output_type": "stream",
     "text": [
      "1.3375977011087912\n"
     ]
    }
   ],
   "source": [
    "fm = als.FMRegression(n_iter=1000, init_stdev=0.1, rank=9, l2_reg_w=0.1, l2_reg_V=0.5)\n",
    "fm.fit(X_train_i_f, y_train)\n",
    "y_pred = fm.predict(X_test_i_f)\n",
    "rmse = mean_squared_error(y_pred, y_test_lr, squared=False)\n",
    "print(rmse)"
   ]
  },
  {
   "cell_type": "code",
   "execution_count": 220,
   "id": "277239d7",
   "metadata": {},
   "outputs": [],
   "source": [
    "# All\n",
    "X_train_all = scipy.sparse.hstack([X_train, X_train_temporal, X_train_fs])\n",
    "X_valid_all = scipy.sparse.hstack([X_valid, X_valid_temporal, X_valid_fs])\n",
    "X_test_all = scipy.sparse.hstack([X_test, X_test_temporal, X_test_fs])"
   ]
  },
  {
   "cell_type": "code",
   "execution_count": 221,
   "id": "b23498bc",
   "metadata": {},
   "outputs": [
    {
     "name": "stdout",
     "output_type": "stream",
     "text": [
      "1.3363833408008094\n"
     ]
    }
   ],
   "source": [
    "fm = als.FMRegression(n_iter=1000, init_stdev=0.1, rank=9, l2_reg_w=0.1, l2_reg_V=0.5)\n",
    "fm.fit(X_train_all, y_train)\n",
    "y_pred = fm.predict(X_test_all)\n",
    "rmse = mean_squared_error(y_pred, y_test_lr, squared=False)\n",
    "print(rmse)"
   ]
  },
  {
   "cell_type": "code",
   "execution_count": null,
   "id": "0ce9f924",
   "metadata": {},
   "outputs": [],
   "source": []
  }
 ],
 "metadata": {
  "kernelspec": {
   "display_name": "cse258",
   "language": "python",
   "name": "cse258"
  },
  "language_info": {
   "codemirror_mode": {
    "name": "ipython",
    "version": 3
   },
   "file_extension": ".py",
   "mimetype": "text/x-python",
   "name": "python",
   "nbconvert_exporter": "python",
   "pygments_lexer": "ipython3",
   "version": "3.5.10"
  }
 },
 "nbformat": 4,
 "nbformat_minor": 5
}
